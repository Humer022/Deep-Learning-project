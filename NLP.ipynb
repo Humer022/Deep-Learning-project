{
 "cells": [
  {
   "cell_type": "code",
   "execution_count": null,
   "id": "1eaf6aa1",
   "metadata": {},
   "outputs": [],
   "source": [
    "#! pip uninstall nltk\n",
    "#! pip install pandas"
   ]
  },
  {
   "cell_type": "markdown",
   "id": "869e6f84",
   "metadata": {},
   "source": [
    "Data preprocessing with lower case function"
   ]
  },
  {
   "cell_type": "code",
   "execution_count": null,
   "id": "762d3b69",
   "metadata": {},
   "outputs": [],
   "source": [
    "review = \"I Love Pakistan Because its My Mother Land\"\n",
    "print(review.lower())"
   ]
  },
  {
   "cell_type": "code",
   "execution_count": null,
   "id": "3b32cdbb",
   "metadata": {},
   "outputs": [],
   "source": [
    "#Lower function working with list\n",
    "reviews = [\n",
    "    \"I absolutely love this product! It works like a charm.\",\n",
    "    \"Terrible experience, I will never buy this again.\",\n",
    "    \"It's okay, not the best but not the worst either.\",\n",
    "    \"Amazing service and fast delivery!\",\n",
    "    \"The product was broken when it arrived. Very disappointed.\",\n",
    "    \"Customer support was helpful and resolved my issue quickly.\",\n",
    "    \"I didn't notice any difference after using it for a week.\",\n",
    "    \"Five stars! Highly recommended.\",\n",
    "    \"Packaging was poor, but the product quality is decent.\",\n",
    "    \"The price is too high for what it offers.\"\n",
    "]\n",
    "review_list_lower = [x.lower() for x in reviews]\n",
    "print(review_list_lower)"
   ]
  },
  {
   "cell_type": "code",
   "execution_count": null,
   "id": "c458dfc2",
   "metadata": {},
   "outputs": [],
   "source": [
    "import pandas as pd\n",
    "customer_review = pd.read_csv(r'C:\\Users\\PC\\Desktop\\Deep Learning\\projects\\customer_feedback_sample.csv')\n",
    "customer_review['text'] = customer_review['text'].str.lower()\n",
    "#customer_review.head()\n"
   ]
  },
  {
   "cell_type": "markdown",
   "id": "9f6dfd92",
   "metadata": {},
   "source": [
    "Handling stopwords"
   ]
  },
  {
   "cell_type": "code",
   "execution_count": null,
   "id": "c3a35014",
   "metadata": {},
   "outputs": [],
   "source": [
    "import nltk\n",
    "nltk.download('stopwords')\n",
    "from nltk.corpus import stopwords"
   ]
  },
  {
   "cell_type": "code",
   "execution_count": null,
   "id": "49786c02",
   "metadata": {},
   "outputs": [],
   "source": [
    "en_stopwords = stopwords.words('english')\n",
    "print(en_stopwords)"
   ]
  },
  {
   "cell_type": "code",
   "execution_count": null,
   "id": "7e20ebba",
   "metadata": {},
   "outputs": [],
   "source": [
    "# Step 4: Remove stopwords from each review\n",
    "customer_review['cleaned_review'] = customer_review['text'].apply(lambda x: \" \".join([word for word in str(x).split() if word.lower() not in en_stopwords]))\n"
   ]
  },
  {
   "cell_type": "code",
   "execution_count": null,
   "id": "01c0abe4",
   "metadata": {},
   "outputs": [],
   "source": [
    "# Step 5: Save the cleaned data to a new CSV\n",
    "customer_review.to_csv('cleaned_reviews.csv', index=False)"
   ]
  },
  {
   "cell_type": "code",
   "execution_count": null,
   "id": "e287cff7",
   "metadata": {},
   "outputs": [],
   "source": [
    "print(\"Stopwords removed and new CSV saved as 'cleaned_reviews.csv'\")\n",
    "#print(customer_review['cleaned_review'])\n"
   ]
  },
  {
   "cell_type": "code",
   "execution_count": null,
   "id": "ef7f2296",
   "metadata": {},
   "outputs": [],
   "source": [
    "#if we want add some new words in stopwords\n",
    "en_stopwords.append('words you want add')\n",
    "#or we want remove something from en_stopword original list\n",
    "en_stopwords.remove('to')"
   ]
  },
  {
   "cell_type": "code",
   "execution_count": null,
   "id": "fb0fd06e",
   "metadata": {},
   "outputs": [],
   "source": [
    "import re"
   ]
  },
  {
   "cell_type": "markdown",
   "id": "efcac4c7",
   "metadata": {},
   "source": [
    "we using regular expression"
   ]
  },
  {
   "cell_type": "code",
   "execution_count": null,
   "id": "9b9e9e8c",
   "metadata": {},
   "outputs": [],
   "source": [
    "my_str = 'my name is humera\\i am 25 years old\\i have done master degree' # give erroe\n",
    "my_str = r'my name is humera\\i am 25 years old\\i have done master degree' #correct method\n",
    "print(my_str)"
   ]
  },
  {
   "cell_type": "markdown",
   "id": "78ca78e7",
   "metadata": {},
   "source": [
    "using the re.search function"
   ]
  },
  {
   "cell_type": "code",
   "execution_count": null,
   "id": "aeba609c",
   "metadata": {},
   "outputs": [],
   "source": [
    "result_search = re.search('pattern','string containing the  pattern')\n",
    "print(result_search)"
   ]
  },
  {
   "cell_type": "code",
   "execution_count": null,
   "id": "d35a7174",
   "metadata": {},
   "outputs": [],
   "source": [
    "print(result_search.group())"
   ]
  },
  {
   "cell_type": "markdown",
   "id": "5125fbc3",
   "metadata": {},
   "source": [
    "using the re.sub function"
   ]
  },
  {
   "cell_type": "code",
   "execution_count": null,
   "id": "735b29b0",
   "metadata": {},
   "outputs": [],
   "source": [
    "review = ' i very diaappoint the product of zara brand'\n",
    "new_review = re.sub('zara','sara',review)\n",
    "print(new_review)\n"
   ]
  },
  {
   "cell_type": "markdown",
   "id": "1ad36d7a",
   "metadata": {},
   "source": [
    "Regex syntax"
   ]
  },
  {
   "cell_type": "code",
   "execution_count": null,
   "id": "dc7d0eb2",
   "metadata": {},
   "outputs": [],
   "source": [
    "#find specific word from text data\n",
    "cus_reviews = [\n",
    "    \"I absolutely love this product! It works like a charm.\",\n",
    "    \"Terrible experience, I will never buy this again.\",\n",
    "    \"It's okay, not the best but not the worst either.\",\n",
    "    \"Amazing service and fast delivery!\",\n",
    "    \"The product was broken when it arrived. Very disappointed.\",\n",
    "    \"Customer support was helpful and resolved my issue quickly.\",\n",
    "    \"I didn't notice any difference after using it for a week.\",\n",
    "    \"Five stars! Highly recommended.\",\n",
    "    \"Packaging was poor, but the product quality is decent.\",\n",
    "    \"The price is too high for what it offers.\"\n",
    "]\n",
    "    \n",
    "price = []\n",
    "pattern =r\"high price|price is high|price is too high|high price product|price is also high\"\n",
    "\n",
    "for p in cus_reviews:\n",
    "    if(re.search(pattern, p, re.IGNORECASE)):\n",
    "        price.append(p)\n",
    "for review in price:\n",
    "    print(review)"
   ]
  },
  {
   "cell_type": "code",
   "execution_count": null,
   "id": "35afd816",
   "metadata": {},
   "outputs": [],
   "source": [
    "#find specifict charecter from data\n",
    "high_word = []\n",
    "pattern =r\"^packaging\"\n",
    "\n",
    "for p in cus_reviews:\n",
    "    if(re.search(pattern, p, re.IGNORECASE)):\n",
    "        high_word.append(p)\n",
    "for review in high_word:\n",
    "    print(review)\n"
   ]
  },
  {
   "cell_type": "markdown",
   "id": "881db261",
   "metadata": {},
   "source": [
    "Tokenization"
   ]
  },
  {
   "cell_type": "code",
   "execution_count": null,
   "id": "c8b024e7",
   "metadata": {},
   "outputs": [],
   "source": [
    "import nltk\n",
    "nltk.download('punkt_tab')\n",
    "from nltk.tokenize import word_tokenize, sent_tokenize"
   ]
  },
  {
   "cell_type": "code",
   "execution_count": null,
   "id": "4da5407b",
   "metadata": {},
   "outputs": [],
   "source": [
    "sentence = \"hello i am humera sarwar, how i assist you today as a Ai enginner\"\n",
    "sent_tokenize(sentence)"
   ]
  },
  {
   "cell_type": "code",
   "execution_count": null,
   "id": "b476b6c8",
   "metadata": {},
   "outputs": [],
   "source": [
    "sentence = \"hello i am humera sarwar how i assist you today as a Ai enginner\"\n",
    "word_tokenize(sentence)"
   ]
  },
  {
   "cell_type": "markdown",
   "id": "f25a1de7",
   "metadata": {},
   "source": [
    "stemming"
   ]
  },
  {
   "cell_type": "code",
   "execution_count": null,
   "id": "12bc8999",
   "metadata": {},
   "outputs": [],
   "source": [
    "from nltk.stem import PorterStemmer"
   ]
  },
  {
   "cell_type": "code",
   "execution_count": null,
   "id": "6d7b2832",
   "metadata": {},
   "outputs": [],
   "source": [
    "ps = PorterStemmer()"
   ]
  },
  {
   "cell_type": "code",
   "execution_count": null,
   "id": "e111f86d",
   "metadata": {},
   "outputs": [],
   "source": [
    "connect_tokens = ['connect','connected','connecting','connectivity','connection']\n",
    "for t in connect_tokens:\n",
    "    print(t, \" : \", ps.stem(t))"
   ]
  },
  {
   "cell_type": "code",
   "execution_count": null,
   "id": "5d9536d0",
   "metadata": {},
   "outputs": [],
   "source": [
    "tokenss = ['leraning','connecting','running','facing','pushing']\n",
    "for t in tokenss:\n",
    "    print(t, \" : \", ps.stem(t))"
   ]
  },
  {
   "cell_type": "markdown",
   "id": "414720a7",
   "metadata": {},
   "source": [
    "Lemmatization"
   ]
  },
  {
   "cell_type": "code",
   "execution_count": null,
   "id": "0cc21687",
   "metadata": {},
   "outputs": [],
   "source": [
    "import nltk\n",
    "nltk.download('wordnet')\n",
    "from nltk.stem import WordNetLemmatizer"
   ]
  },
  {
   "cell_type": "code",
   "execution_count": null,
   "id": "7e345a15",
   "metadata": {},
   "outputs": [],
   "source": [
    "lem = WordNetLemmatizer()\n",
    "connectt_tokens = ['connect','connected','connecting','connectivity','connection']\n"
   ]
  },
  {
   "cell_type": "code",
   "execution_count": null,
   "id": "7fc22dfd",
   "metadata": {},
   "outputs": [],
   "source": [
    "for t in connectt_tokens:\n",
    "    print(t, \" : \", lem.lemmatize(t))"
   ]
  }
 ],
 "metadata": {
  "kernelspec": {
   "display_name": "Python 3",
   "language": "python",
   "name": "python3"
  },
  "language_info": {
   "codemirror_mode": {
    "name": "ipython",
    "version": 3
   },
   "file_extension": ".py",
   "mimetype": "text/x-python",
   "name": "python",
   "nbconvert_exporter": "python",
   "pygments_lexer": "ipython3",
   "version": "3.13.2"
  }
 },
 "nbformat": 4,
 "nbformat_minor": 5
}
